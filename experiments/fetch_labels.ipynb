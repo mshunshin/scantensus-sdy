{
 "cells": [
  {
   "cell_type": "code",
   "execution_count": 1,
   "metadata": {},
   "outputs": [
    {
     "name": "stdout",
     "output_type": "stream",
     "text": [
      "/home/guilherme/scantensus-sdy\n"
     ]
    },
    {
     "data": {
      "text/plain": [
       "'/home/guilherme/scantensus-sdy'"
      ]
     },
     "execution_count": 1,
     "metadata": {},
     "output_type": "execute_result"
    }
   ],
   "source": [
    "%cd ..\n",
    "%pwd"
   ]
  },
  {
   "cell_type": "code",
   "execution_count": 2,
   "metadata": {},
   "outputs": [
    {
     "name": "stderr",
     "output_type": "stream",
     "text": [
      "WARNING:root:Missing mapping for curve-flow, using old name\n",
      "WARNING:root:Missing mapping for curve-flow, using old name\n",
      "WARNING:root:Missing mapping for curve-flow, using old name\n",
      "WARNING:root:Missing mapping for curve-flow, using old name\n",
      "WARNING:root:Missing mapping for curve-flow, using old name\n",
      "WARNING:root:Missing mapping for curve-flow, using old name\n",
      "WARNING:root:Missing mapping for curve-flow, using old name\n",
      "WARNING:root:Missing mapping for curve-flow, using old name\n",
      "WARNING:root:Missing mapping for curve-flow, using old name\n",
      "WARNING:root:Missing mapping for curve-flow, using old name\n",
      "WARNING:root:Missing mapping for curve-flow, using old name\n",
      "WARNING:root:Missing mapping for curve-flow, using old name\n",
      "WARNING:root:Missing mapping for curve-flow, using old name\n",
      "WARNING:root:Missing mapping for curve-flow, using old name\n",
      "WARNING:root:Missing mapping for curve-flow, using old name\n",
      "WARNING:root:Missing mapping for curve-flow, using old name\n",
      "WARNING:root:Missing mapping for curve-flow, using old name\n",
      "WARNING:root:Missing mapping for curve-flow, using old name\n",
      "WARNING:root:Missing mapping for curve-flow, using old name\n",
      "WARNING:root:Missing mapping for curve-flow, using old name\n",
      "WARNING:root:Missing mapping for curve-flow, using old name\n",
      "WARNING:root:Missing mapping for curve-flow, using old name\n",
      "WARNING:root:Missing mapping for curve-flow, using old name\n",
      "WARNING:root:Missing mapping for curve-flow, using old name\n",
      "WARNING:root:Missing mapping for curve-flow, using old name\n",
      "WARNING:root:Missing mapping for curve-flow, using old name\n",
      "WARNING:root:Missing mapping for curve-flow, using old name\n",
      "WARNING:root:Missing mapping for curve-flow, using old name\n",
      "WARNING:root:Missing mapping for curve-flow, using old name\n",
      "WARNING:root:Missing mapping for curve-flow, using old name\n",
      "WARNING:root:Missing mapping for curve-flow, using old name\n",
      "WARNING:root:Missing mapping for curve-flow, using old name\n",
      "WARNING:root:Missing mapping for curve-flow, using old name\n",
      "WARNING:root:Missing mapping for curve-flow, using old name\n",
      "WARNING:root:Missing mapping for curve-flow, using old name\n",
      "WARNING:root:Missing mapping for curve-flow, using old name\n",
      "WARNING:root:Missing mapping for curve-flow, using old name\n",
      "WARNING:root:Missing mapping for curve-flow, using old name\n",
      "WARNING:root:Missing mapping for curve-flow, using old name\n",
      "WARNING:root:Missing mapping for curve-flow, using old name\n",
      "WARNING:root:Missing mapping for curve-flow, using old name\n",
      "WARNING:root:Missing mapping for curve-flow, using old name\n",
      "WARNING:root:Missing mapping for curve-flow, using old name\n",
      "WARNING:root:Missing mapping for curve-flow, using old name\n",
      "WARNING:root:Missing mapping for curve-flow, using old name\n",
      "WARNING:root:Missing mapping for curve-flow, using old name\n",
      "WARNING:root:Missing mapping for curve-flow, using old name\n",
      "WARNING:root:Missing mapping for curve-flow, using old name\n",
      "WARNING:root:Missing mapping for curve-flow, using old name\n",
      "WARNING:root:Missing mapping for curve-flow, using old name\n",
      "WARNING:root:Missing mapping for curve-flow, using old name\n",
      "WARNING:root:Missing mapping for curve-flow, using old name\n",
      "WARNING:root:Missing mapping for curve-flow, using old name\n",
      "WARNING:root:Missing mapping for curve-flow, using old name\n",
      "WARNING:root:Missing mapping for curve-flow, using old name\n",
      "WARNING:root:Missing mapping for curve-flow, using old name\n",
      "WARNING:root:Missing mapping for curve-flow, using old name\n",
      "WARNING:root:Missing mapping for curve-flow, using old name\n",
      "WARNING:root:Missing mapping for curve-flow, using old name\n",
      "WARNING:root:Missing mapping for curve-flow, using old name\n",
      "WARNING:root:Missing mapping for curve-flow, using old name\n",
      "WARNING:root:Missing mapping for curve-flow, using old name\n",
      "WARNING:root:Missing mapping for curve-flow, using old name\n",
      "WARNING:root:Missing mapping for curve-flow, using old name\n",
      "WARNING:root:Missing mapping for curve-flow, using old name\n",
      "WARNING:root:Missing mapping for curve-flow, using old name\n",
      "WARNING:root:Missing mapping for curve-flow, using old name\n",
      "WARNING:root:Missing mapping for curve-flow, using old name\n",
      "WARNING:root:Missing mapping for curve-flow, using old name\n",
      "WARNING:root:Missing mapping for curve-flow, using old name\n",
      "WARNING:root:Missing mapping for curve-flow, using old name\n",
      "WARNING:root:Missing mapping for curve-flow, using old name\n",
      "WARNING:root:Missing mapping for curve-flow, using old name\n",
      "WARNING:root:Missing mapping for curve-flow, using old name\n",
      "WARNING:root:Missing mapping for curve-flow, using old name\n",
      "WARNING:root:Missing mapping for curve-flow, using old name\n",
      "WARNING:root:Missing mapping for curve-flow, using old name\n",
      "WARNING:root:Missing mapping for curve-flow, using old name\n",
      "WARNING:root:Missing mapping for curve-flow, using old name\n",
      "WARNING:root:Missing mapping for curve-flow, using old name\n",
      "WARNING:root:Missing mapping for curve-flow, using old name\n",
      "WARNING:root:Missing mapping for curve-flow, using old name\n",
      "WARNING:root:Missing mapping for curve-flow, using old name\n",
      "WARNING:root:Missing mapping for curve-flow, using old name\n",
      "WARNING:root:Missing mapping for curve-flow, using old name\n",
      "WARNING:root:Missing mapping for curve-flow, using old name\n",
      "WARNING:root:Missing mapping for curve-flow, using old name\n",
      "WARNING:root:Missing mapping for curve-flow, using old name\n",
      "WARNING:root:Missing mapping for curve-flow, using old name\n",
      "WARNING:root:Missing mapping for curve-flow, using old name\n",
      "WARNING:root:Missing mapping for curve-flow, using old name\n",
      "WARNING:root:Missing mapping for curve-flow, using old name\n",
      "WARNING:root:Missing mapping for curve-flow, using old name\n",
      "WARNING:root:Missing mapping for curve-flow, using old name\n",
      "WARNING:root:Missing mapping for curve-flow, using old name\n",
      "WARNING:root:Missing mapping for curve-flow, using old name\n",
      "WARNING:root:Missing mapping for curve-flow, using old name\n",
      "WARNING:root:Missing mapping for curve-flow, using old name\n",
      "WARNING:root:Missing mapping for curve-flow, using old name\n",
      "WARNING:root:Missing mapping for curve-flow, using old name\n",
      "WARNING:root:Missing mapping for curve-flow, using old name\n",
      "WARNING:root:Missing mapping for curve-flow, using old name\n",
      "WARNING:root:Missing mapping for curve-flow, using old name\n",
      "WARNING:root:Missing mapping for curve-flow, using old name\n",
      "WARNING:root:Missing mapping for curve-flow, using old name\n",
      "WARNING:root:Missing mapping for curve-flow, using old name\n",
      "WARNING:root:Missing mapping for curve-flow, using old name\n",
      "WARNING:root:Missing mapping for curve-flow, using old name\n",
      "WARNING:root:Missing mapping for curve-flow, using old name\n",
      "WARNING:root:Missing mapping for curve-flow, using old name\n",
      "WARNING:root:Missing mapping for curve-flow, using old name\n",
      "WARNING:root:Missing mapping for curve-flow, using old name\n",
      "WARNING:root:Missing mapping for curve-flow, using old name\n",
      "WARNING:root:Missing mapping for curve-flow, using old name\n",
      "WARNING:root:Missing mapping for curve-flow, using old name\n",
      "WARNING:root:Missing mapping for curve-flow, using old name\n",
      "WARNING:root:Missing mapping for curve-flow, using old name\n",
      "WARNING:root:Missing mapping for curve-flow, using old name\n",
      "WARNING:root:Missing mapping for curve-flow, using old name\n",
      "WARNING:root:Missing mapping for curve-flow, using old name\n",
      "WARNING:root:Missing mapping for curve-flow, using old name\n",
      "WARNING:root:Missing mapping for curve-flow, using old name\n",
      "WARNING:root:Missing mapping for curve-flow, using old name\n",
      "WARNING:root:Missing mapping for curve-flow, using old name\n",
      "WARNING:root:Missing mapping for curve-flow, using old name\n",
      "WARNING:root:Missing mapping for curve-flow, using old name\n",
      "WARNING:root:Missing mapping for curve-flow, using old name\n",
      "WARNING:root:Missing mapping for curve-flow, using old name\n",
      "WARNING:root:Missing mapping for curve-flow, using old name\n",
      "WARNING:root:Missing mapping for curve-flow, using old name\n",
      "WARNING:root:Missing mapping for curve-flow, using old name\n",
      "WARNING:root:Missing mapping for curve-flow, using old name\n",
      "WARNING:root:Missing mapping for curve-flow, using old name\n",
      "WARNING:root:Missing mapping for curve-flow, using old name\n",
      "WARNING:root:Missing mapping for curve-flow, using old name\n",
      "WARNING:root:Missing mapping for curve-flow, using old name\n",
      "WARNING:root:Missing mapping for curve-flow, using old name\n",
      "WARNING:root:Missing mapping for curve-flow, using old name\n",
      "WARNING:root:Missing mapping for curve-flow, using old name\n",
      "WARNING:root:Missing mapping for curve-flow, using old name\n",
      "WARNING:root:Missing mapping for curve-flow, using old name\n",
      "\u001b[32m2024-01-12 19:41:58.745\u001b[0m | \u001b[1mINFO    \u001b[0m | \u001b[36msrc.pressure_damping.curve_dataset\u001b[0m:\u001b[36m__init__\u001b[0m:\u001b[36m74\u001b[0m - \u001b[1mLoaded 1 results containing 164 curves.\u001b[0m\n"
     ]
    }
   ],
   "source": [
    "from pathlib import Path\n",
    "\n",
    "from src.pressure_damping.label_processer import FirebaseCurveFetcher\n",
    "from src.utils.cluster_source import ClusterSource\n",
    "\n",
    "from src.utils.matt_heatmap import UnityMakeHeatmaps\n",
    "from src.pressure_damping.pretransformations import PretransformationsModule\n",
    "from src.pressure_damping.curve_dataset import CurveDataset\n",
    "\n",
    "import numpy as np\n",
    "import torch\n",
    "import torchvision\n",
    "\n",
    "from matplotlib import cm\n",
    "import matplotlib.pyplot as plt\n",
    "\n",
    "from ipywidgets import interact, interactive\n",
    "\n",
    "import PIL\n",
    "import PIL.Image\n",
    "\n",
    "IMAGE_SHAPE = (170, 422)\n",
    "\n",
    "dataset = CurveDataset(\n",
    "    projects=['imp-coro-flow-inv'],\n",
    "    output_shape=IMAGE_SHAPE,\n",
    "    firebase_certificate=Path('.firebase.json')\n",
    ")"
   ]
  },
  {
   "cell_type": "code",
   "execution_count": 3,
   "metadata": {},
   "outputs": [
    {
     "name": "stderr",
     "output_type": "stream",
     "text": [
      "/home/guilherme/scantensus-sdy/src/pressure_damping/curve_dataset.py:152: UserWarning: The given buffer is not writable, and PyTorch does not support non-writable tensors. This means you can write to the underlying (supposedly non-writable) buffer using the tensor. You may want to copy the buffer to protect its data or make it writable before converting it to a tensor. This type of warning will be suppressed for the rest of this program. (Triggered internally at ../torch/csrc/utils/tensor_new.cpp:1508.)\n",
      "  img_bytes = torch.frombuffer(r.content, dtype=torch.uint8)\n",
      "\u001b[32m2024-01-12 19:33:07.719\u001b[0m | \u001b[34m\u001b[1mDEBUG   \u001b[0m | \u001b[36msrc.pressure_damping.curve_dataset\u001b[0m:\u001b[36mread_image_into_t\u001b[0m:\u001b[36m155\u001b[0m - \u001b[34m\u001b[1mhttps://storage.googleapis.com/scantensus/fiducial/imp-coro-flow-inv~clusters~Patient_5~Screen_Shot_2019-08-21_at_18.43.55.png: Successfully loaded\u001b[0m\n"
     ]
    }
   ],
   "source": [
    "image, raw_labels, T = dataset[0]"
   ]
  },
  {
   "cell_type": "code",
   "execution_count": 17,
   "metadata": {},
   "outputs": [
    {
     "data": {
      "application/vnd.jupyter.widget-view+json": {
       "model_id": "3fcd4eef7b414df8af47e115b7cdc79c",
       "version_major": 2,
       "version_minor": 0
      },
      "text/plain": [
       "interactive(children=(IntSlider(value=81, description='index', max=163), Output()), _dom_classes=('widget-inte…"
      ]
     },
     "execution_count": 17,
     "metadata": {},
     "output_type": "execute_result"
    },
    {
     "name": "stderr",
     "output_type": "stream",
     "text": [
      "Error: no \"view\" rule for type \"image/png\" passed its test case\n",
      "       (for more information, add \"--debug=1\" on the command line)\n",
      "Error: no \"view\" rule for type \"image/png\" passed its test case\n",
      "       (for more information, add \"--debug=1\" on the command line)\n"
     ]
    }
   ],
   "source": [
    "def plot_image_with_heatmap(index: int):\n",
    "    image, raw_labels, T = dataset[index]\n",
    "\n",
    "    H = image.shape[1]\n",
    "    W = image.shape[2]\n",
    "\n",
    "    heatmap_gen = UnityMakeHeatmaps(\n",
    "        keypoint_names=['curve-flow'],\n",
    "        image_crop_size=(H, W),\n",
    "        image_out_size=(H, W)\n",
    "    )\n",
    "\n",
    "    heatmaps, weights = heatmap_gen(\n",
    "        label_data=[raw_labels],\n",
    "        label_height_shift=[0],\n",
    "        label_width_shift=[0],\n",
    "        transform_matrix=[T]\n",
    "    )\n",
    "\n",
    "    # apply the 3x3 transform matrix T to the image\n",
    "    \n",
    "\n",
    "    # rendering stuff\n",
    "\n",
    "    heatmap = heatmaps[0].squeeze()\n",
    "    jet_map = cm.get_cmap('jet')\n",
    "\n",
    "    heatmap_jetted = PIL.Image.fromarray((jet_map(heatmap.numpy()) * 255).astype(np.uint8))\n",
    "\n",
    "    SHOW_H = H // 1\n",
    "    SHOW_W = W // 1\n",
    "\n",
    "    resized_heatmap = torchvision.transforms.Resize((SHOW_H, SHOW_W))(heatmap_jetted)\n",
    "    original_image = torchvision.transforms.Resize((SHOW_H, SHOW_W))(torchvision.transforms.ToPILImage()(image))\n",
    "\n",
    "    resized_heatmap = resized_heatmap.convert('RGBA')\n",
    "    original_image = original_image.convert('RGBA')\n",
    "\n",
    "    blended = PIL.Image.blend(original_image, resized_heatmap, alpha=0.5)\n",
    "\n",
    "    blended.show()\n",
    "\n",
    "interactive(plot_image_with_heatmap, index=(0, len(dataset) - 1, 1))"
   ]
  },
  {
   "cell_type": "code",
   "execution_count": 7,
   "metadata": {},
   "outputs": [
    {
     "name": "stderr",
     "output_type": "stream",
     "text": [
      "\u001b[32m2024-01-12 19:42:17.455\u001b[0m | \u001b[34m\u001b[1mDEBUG   \u001b[0m | \u001b[36msrc.pressure_damping.curve_dataset\u001b[0m:\u001b[36mread_image_into_t\u001b[0m:\u001b[36m156\u001b[0m - \u001b[34m\u001b[1mhttps://storage.googleapis.com/scantensus/fiducial/imp-coro-flow-inv~clusters~Patient_5~Screen_Shot_2019-08-21_at_18.43.55.png: Successfully loaded\u001b[0m\n",
      "/home/guilherme/scantensus-sdy/src/utils/matt_heatmap.py:553: UserWarning: torch.meshgrid: in an upcoming release, it will be required to pass the indexing argument. (Triggered internally at ../aten/src/ATen/native/TensorShape.cpp:3526.)\n",
      "  gauss = render_gaussian_curve(mean=points, std=std, size=size)\n",
      "/tmp/ipykernel_1349272/557463477.py:17: MatplotlibDeprecationWarning: The get_cmap function was deprecated in Matplotlib 3.7 and will be removed two minor releases later. Use ``matplotlib.colormaps[name]`` or ``matplotlib.colormaps.get_cmap(obj)`` instead.\n",
      "  jet_map = cm.get_cmap('jet')\n"
     ]
    }
   ],
   "source": [
    "def new_plot_image_with_heatmap(index: int):\n",
    "    image, raw_labels, T = dataset[index]\n",
    "\n",
    "    pretransform = PretransformationsModule(\n",
    "        keypoint_names=['curve-flow'],\n",
    "        image_crop_size=IMAGE_SHAPE,\n",
    "        image_out_size=IMAGE_SHAPE\n",
    "    )\n",
    "\n",
    "    images, heatmaps, weights = pretransform.forward(\n",
    "        label_data=[raw_labels],\n",
    "        images=image.unsqueeze(0),\n",
    "        dataset_transform_matrix=T.unsqueeze(0)\n",
    "    )\n",
    "\n",
    "    heatmap = heatmaps[0].squeeze()\n",
    "    jet_map = cm.get_cmap('jet')\n",
    "\n",
    "    heatmap_jetted = PIL.Image.fromarray((jet_map(heatmap.numpy()) * 255).astype(np.uint8)).convert('RGBA')\n",
    "    heatmap_jetted = heatmap_jetted.resize((IMAGE_SHAPE[1], IMAGE_SHAPE[0]))\n",
    "\n",
    "    image = torchvision.transforms.ToPILImage()(images.to(torch.uint8).squeeze()).convert('RGBA')\n",
    "\n",
    "    return image, heatmap_jetted\n",
    "\n",
    "image, heatmap = new_plot_image_with_heatmap(0)"
   ]
  },
  {
   "cell_type": "code",
   "execution_count": 11,
   "metadata": {},
   "outputs": [
    {
     "data": {
      "image/png": "[encoded data removed]",
      "text/plain": [
       "<PIL.Image.Image image mode=RGBA size=422x170>"
      ]
     },
     "execution_count": 11,
     "metadata": {},
     "output_type": "execute_result"
    }
   ],
   "source": [
    "#PIL.Image.blend(image, heatmap, alpha=0.5)\n",
    "heatmap"
   ]
  },
  {
   "cell_type": "code",
   "execution_count": null,
   "metadata": {},
   "outputs": [],
   "source": []
  }
 ],
 "metadata": {
  "kernelspec": {
   "display_name": "ai-env",
   "language": "python",
   "name": "python3"
  },
  "language_info": {
   "codemirror_mode": {
    "name": "ipython",
    "version": 3
   },
   "file_extension": ".py",
   "mimetype": "text/x-python",
   "name": "python",
   "nbconvert_exporter": "python",
   "pygments_lexer": "ipython3",
   "version": "3.10.12"
  }
 },
 "nbformat": 4,
 "nbformat_minor": 2
}
